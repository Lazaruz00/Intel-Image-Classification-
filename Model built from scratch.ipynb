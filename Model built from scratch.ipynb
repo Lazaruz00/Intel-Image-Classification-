{
 "cells": [
  {
   "cell_type": "code",
   "execution_count": 1,
   "metadata": {},
   "outputs": [],
   "source": [
    "from tensorflow.keras.preprocessing.image import ImageDataGenerator\n",
    "from tensorflow.keras.models import Sequential\n",
    "from tensorflow.keras.layers import Conv2D, MaxPooling2D, Activation, Dropout, Flatten, Dense\n",
    "from tensorflow.keras.optimizers import SGD\n",
    "from PIL import Image\n",
    "import numpy as np\n",
    "import matplotlib.pyplot as plt\n",
    "import tensorflow as tf\n",
    "import os"
   ]
  },
  {
   "cell_type": "code",
   "execution_count": 2,
   "metadata": {},
   "outputs": [],
   "source": [
    "#image directories\n",
    "train_dir = \"C:/Users/User/Desktop/NTU Projects/Intel Image Classification/Intel Images/seg_train/seg_train\"\n",
    "valid_dir = \"C:/Users/User/Desktop/NTU Projects/Intel Image Classification/Intel Images/seg_test/seg_test\"\n",
    "pred_dir = \"C:/Users/User/Desktop/NTU Projects/Intel Image Classification/Intel Images/seg_pred\""
   ]
  },
  {
   "cell_type": "code",
   "execution_count": null,
   "metadata": {},
   "outputs": [
    {
     "name": "stdout",
     "output_type": "stream",
     "text": [
      "Found 14034 images belonging to 6 classes.\n"
     ]
    }
   ],
   "source": [
    "batch_num = 32\n",
    "dim = 50\n",
    "#create augementation for training\n",
    "train_IDG = ImageDataGenerator(rescale = 1.0/255.0,\n",
    "                              shear_range = 0.3,\n",
    "                              zoom_range = 0.3,\n",
    "                              horizontal_flip = True)\n",
    "#training generator\n",
    "train_gtr = train_IDG.flow_from_directory(directory = train_dir,\n",
    "                                         target_size = (dim, dim),\n",
    "                                         color_mode = 'rgb',\n",
    "                                         batch_size = batch_num,\n",
    "                                         class_mode = 'categorical',\n",
    "                                         shuffle = True)\n",
    "\n",
    "#create augmentation for validation \n",
    "valid_IDG = ImageDataGenerator(rescale = 1.0/255.0)\n",
    "#validation generator\n",
    "valid_gtr = valid_IDG.flow_from_directory(directory = valid_dir,\n",
    "                                          target_size = (dim, dim),\n",
    "                                          color_mode = 'rgb',\n",
    "                                          batch_size = batch_num,\n",
    "                                          class_mode = 'categorical',\n",
    "                                          shuffle = True)\n",
    "\n",
    "#create augmentation and generator for prediction\n",
    "test_IDG = ImageDataGenerator(rescale = 1.0/255.0)\n",
    "test_gtr = test_IDG.flow_from_directory(directory = pred_dir,\n",
    "                                        target_size = (dim, dim),\n",
    "                                        color_mode = 'rgb',\n",
    "                                        batch_size = batch_num,\n",
    "                                        class_mode = None,\n",
    "                                        shuffle = True)"
   ]
  },
  {
   "cell_type": "code",
   "execution_count": 4,
   "metadata": {},
   "outputs": [],
   "source": [
    "#build model\n",
    "model = Sequential()\n",
    "model.add(Conv2D(32,(3,3), input_shape = (dim, dim,3)))\n",
    "model.add(Activation('relu'))\n",
    "model.add(Conv2D(32,(3,3)))\n",
    "model.add(Activation('relu'))\n",
    "model.add(MaxPooling2D(pool_size = (2,2)))\n",
    "\n",
    "model.add(Conv2D(32,(3,3)))\n",
    "model.add(Activation('relu'))\n",
    "model.add(Conv2D(64,(3,3)))\n",
    "model.add(Activation('relu'))\n",
    "model.add(MaxPooling2D(pool_size = (2,2)))\n",
    "\n",
    "model.add(Flatten())\n",
    "model.add(Dense(64))\n",
    "model.add(Activation('relu'))\n",
    "model.add(Dropout(0.5))\n",
    "model.add(Dense(6))\n",
    "model.add(Activation('softmax'))"
   ]
  },
  {
   "cell_type": "code",
   "execution_count": 5,
   "metadata": {},
   "outputs": [
    {
     "name": "stdout",
     "output_type": "stream",
     "text": [
      "Epoch 1/40\n",
      "438/438 [==============================] - 367s 838ms/step - loss: 1.7808 - accuracy: 0.1951 - val_loss: 1.7713 - val_accuracy: 0.2110\n",
      "Epoch 2/40\n",
      "438/438 [==============================] - 26s 60ms/step - loss: 1.7627 - accuracy: 0.2259 - val_loss: 1.7482 - val_accuracy: 0.2534\n",
      "Epoch 3/40\n",
      "438/438 [==============================] - 26s 59ms/step - loss: 1.7341 - accuracy: 0.2620 - val_loss: 1.7034 - val_accuracy: 0.2819\n",
      "Epoch 4/40\n",
      "438/438 [==============================] - 25s 58ms/step - loss: 1.6831 - accuracy: 0.2943 - val_loss: 1.6288 - val_accuracy: 0.3384\n",
      "Epoch 5/40\n",
      "438/438 [==============================] - 25s 58ms/step - loss: 1.6102 - accuracy: 0.3462 - val_loss: 1.5276 - val_accuracy: 0.4002\n",
      "Epoch 6/40\n",
      "438/438 [==============================] - 25s 58ms/step - loss: 1.5288 - accuracy: 0.3907 - val_loss: 1.4594 - val_accuracy: 0.4506\n",
      "Epoch 7/40\n",
      "438/438 [==============================] - 25s 58ms/step - loss: 1.4622 - accuracy: 0.4299 - val_loss: 1.3849 - val_accuracy: 0.4866\n",
      "Epoch 8/40\n",
      "438/438 [==============================] - 26s 58ms/step - loss: 1.4225 - accuracy: 0.4536 - val_loss: 1.3185 - val_accuracy: 0.4987\n",
      "Epoch 9/40\n",
      "438/438 [==============================] - 25s 58ms/step - loss: 1.3832 - accuracy: 0.4695 - val_loss: 1.2952 - val_accuracy: 0.5104\n",
      "Epoch 10/40\n",
      "438/438 [==============================] - 26s 59ms/step - loss: 1.3630 - accuracy: 0.4781 - val_loss: 1.2739 - val_accuracy: 0.5155\n",
      "Epoch 11/40\n",
      "438/438 [==============================] - 26s 58ms/step - loss: 1.3423 - accuracy: 0.4865 - val_loss: 1.2434 - val_accuracy: 0.5269\n",
      "Epoch 12/40\n",
      "438/438 [==============================] - 26s 58ms/step - loss: 1.3278 - accuracy: 0.4959 - val_loss: 1.2331 - val_accuracy: 0.5232\n",
      "Epoch 13/40\n",
      "438/438 [==============================] - 26s 59ms/step - loss: 1.2976 - accuracy: 0.5015 - val_loss: 1.1894 - val_accuracy: 0.5380\n",
      "Epoch 14/40\n",
      "438/438 [==============================] - 26s 58ms/step - loss: 1.2822 - accuracy: 0.5060 - val_loss: 1.2110 - val_accuracy: 0.5296\n",
      "Epoch 15/40\n",
      "438/438 [==============================] - 26s 59ms/step - loss: 1.2699 - accuracy: 0.5159 - val_loss: 1.2507 - val_accuracy: 0.5034\n",
      "Epoch 16/40\n",
      "438/438 [==============================] - 25s 58ms/step - loss: 1.2409 - accuracy: 0.5268 - val_loss: 1.1332 - val_accuracy: 0.5628\n",
      "Epoch 17/40\n",
      "438/438 [==============================] - 26s 59ms/step - loss: 1.2224 - accuracy: 0.5281 - val_loss: 1.1015 - val_accuracy: 0.5733\n",
      "Epoch 18/40\n",
      "438/438 [==============================] - 26s 59ms/step - loss: 1.2089 - accuracy: 0.5271 - val_loss: 1.1129 - val_accuracy: 0.5672\n",
      "Epoch 19/40\n",
      "438/438 [==============================] - 26s 59ms/step - loss: 1.1972 - accuracy: 0.5326 - val_loss: 1.1227 - val_accuracy: 0.5618\n",
      "Epoch 20/40\n",
      "438/438 [==============================] - 26s 59ms/step - loss: 1.1743 - accuracy: 0.5449 - val_loss: 1.0506 - val_accuracy: 0.5837\n",
      "Epoch 21/40\n",
      "438/438 [==============================] - 26s 58ms/step - loss: 1.1625 - accuracy: 0.5460 - val_loss: 1.0907 - val_accuracy: 0.5776\n",
      "Epoch 22/40\n",
      "438/438 [==============================] - 26s 58ms/step - loss: 1.1598 - accuracy: 0.5499 - val_loss: 1.1198 - val_accuracy: 0.5605\n",
      "Epoch 23/40\n",
      "438/438 [==============================] - 26s 58ms/step - loss: 1.1475 - accuracy: 0.5510 - val_loss: 1.0853 - val_accuracy: 0.5796\n",
      "Epoch 24/40\n",
      "438/438 [==============================] - 26s 59ms/step - loss: 1.1350 - accuracy: 0.5561 - val_loss: 1.0317 - val_accuracy: 0.6011\n",
      "Epoch 25/40\n",
      "438/438 [==============================] - 26s 59ms/step - loss: 1.1231 - accuracy: 0.5673 - val_loss: 1.0922 - val_accuracy: 0.5766\n",
      "Epoch 26/40\n",
      "438/438 [==============================] - 26s 58ms/step - loss: 1.1212 - accuracy: 0.5673 - val_loss: 1.0371 - val_accuracy: 0.5998\n",
      "Epoch 27/40\n",
      "438/438 [==============================] - 26s 59ms/step - loss: 1.1138 - accuracy: 0.5642 - val_loss: 1.0247 - val_accuracy: 0.6102\n",
      "Epoch 28/40\n",
      "438/438 [==============================] - 26s 58ms/step - loss: 1.1012 - accuracy: 0.5743 - val_loss: 1.0266 - val_accuracy: 0.6038\n",
      "Epoch 29/40\n",
      "438/438 [==============================] - 26s 59ms/step - loss: 1.1042 - accuracy: 0.5751 - val_loss: 1.0169 - val_accuracy: 0.6092\n",
      "Epoch 30/40\n",
      "438/438 [==============================] - 25s 58ms/step - loss: 1.0980 - accuracy: 0.5794 - val_loss: 1.0176 - val_accuracy: 0.6132\n",
      "Epoch 31/40\n",
      "438/438 [==============================] - 26s 59ms/step - loss: 1.0854 - accuracy: 0.5851 - val_loss: 1.0072 - val_accuracy: 0.6052\n",
      "Epoch 32/40\n",
      "438/438 [==============================] - 26s 58ms/step - loss: 1.0824 - accuracy: 0.5851 - val_loss: 1.0262 - val_accuracy: 0.6139\n",
      "Epoch 33/40\n",
      "438/438 [==============================] - 26s 58ms/step - loss: 1.0723 - accuracy: 0.5848 - val_loss: 1.0494 - val_accuracy: 0.5864\n",
      "Epoch 34/40\n",
      "438/438 [==============================] - 26s 59ms/step - loss: 1.0742 - accuracy: 0.5855 - val_loss: 0.9850 - val_accuracy: 0.6247\n",
      "Epoch 35/40\n",
      "438/438 [==============================] - 25s 58ms/step - loss: 1.0699 - accuracy: 0.5951 - val_loss: 1.0082 - val_accuracy: 0.6193\n",
      "Epoch 36/40\n",
      "438/438 [==============================] - 26s 58ms/step - loss: 1.0642 - accuracy: 0.5890 - val_loss: 0.9819 - val_accuracy: 0.6317\n",
      "Epoch 37/40\n",
      "438/438 [==============================] - 25s 58ms/step - loss: 1.0554 - accuracy: 0.5976 - val_loss: 0.9981 - val_accuracy: 0.6183\n",
      "Epoch 38/40\n",
      "438/438 [==============================] - 26s 59ms/step - loss: 1.0543 - accuracy: 0.5966 - val_loss: 1.0153 - val_accuracy: 0.6196\n",
      "Epoch 39/40\n",
      "438/438 [==============================] - 26s 59ms/step - loss: 1.0546 - accuracy: 0.5969 - val_loss: 1.0053 - val_accuracy: 0.6237\n",
      "Epoch 40/40\n",
      "438/438 [==============================] - 25s 58ms/step - loss: 1.0586 - accuracy: 0.5986 - val_loss: 1.0194 - val_accuracy: 0.6065\n"
     ]
    }
   ],
   "source": [
    "model.compile(optimizer = SGD(lr=0.001), loss = 'categorical_crossentropy',\n",
    "             metrics = ['accuracy'])\n",
    "with tf.device(\"GPU:0\"):\n",
    "    history = model.fit(train_gtr,\n",
    "                       steps_per_epoch = 14034//batch_num,\n",
    "                       epochs = 40,\n",
    "                       validation_data = valid_gtr,\n",
    "                       validation_steps = 3000//batch_num)"
   ]
  },
  {
   "cell_type": "code",
   "execution_count": 6,
   "metadata": {},
   "outputs": [
    {
     "name": "stdout",
     "output_type": "stream",
     "text": [
      "Training Accuracy: 0.599\n",
      "Training Loss: 1.781\n",
      "Validation Accuracy: 0.632\n",
      "Validation Loss: 1.771\n"
     ]
    },
    {
     "data": {
      "image/png": "[encoded data removed]",
      "text/plain": [
       "<Figure size 864x288 with 2 Axes>"
      ]
     },
     "metadata": {
      "needs_background": "light"
     },
     "output_type": "display_data"
    }
   ],
   "source": [
    "f, axes = plt.subplots(1, 2, figsize=(12, 4))\n",
    "acc = history.history['accuracy']\n",
    "loss = history.history['loss']\n",
    "val_acc = history.history['val_accuracy']\n",
    "val_loss = history.history['val_loss']\n",
    "print('Training Accuracy: {:.3f}'.format(np.max(acc)))\n",
    "print('Training Loss: {:.3f}'.format(np.max(loss)))\n",
    "print('Validation Accuracy: {:.3f}'.format(np.max(val_acc)))\n",
    "print('Validation Loss: {:.3f}'.format(np.max(val_loss)))\n",
    "axes[0].plot(acc, label='Train')\n",
    "axes[0].plot(val_acc, label='Test')\n",
    "axes[0].set_title('Model accuracy')\n",
    "axes[0].set(ylabel = 'Accuracy', xlabel = 'Epoch')\n",
    "axes[0].legend()\n",
    "axes[1].plot(loss, label='Train')\n",
    "axes[1].plot(val_loss, label='Test')\n",
    "axes[1].set_title('Model loss')\n",
    "axes[1].set(ylabel = 'Loss', xlabel = 'Epoch')\n",
    "axes[1].legend()\n",
    "plt.show()"
   ]
  },
  {
   "cell_type": "code",
   "execution_count": 7,
   "metadata": {},
   "outputs": [
    {
     "name": "stdout",
     "output_type": "stream",
     "text": [
      "Model: \"sequential\"\n",
      "_________________________________________________________________\n",
      "Layer (type)                 Output Shape              Param #   \n",
      "=================================================================\n",
      "conv2d (Conv2D)              (None, 48, 48, 32)        896       \n",
      "_________________________________________________________________\n",
      "activation (Activation)      (None, 48, 48, 32)        0         \n",
      "_________________________________________________________________\n",
      "conv2d_1 (Conv2D)            (None, 46, 46, 32)        9248      \n",
      "_________________________________________________________________\n",
      "activation_1 (Activation)    (None, 46, 46, 32)        0         \n",
      "_________________________________________________________________\n",
      "max_pooling2d (MaxPooling2D) (None, 23, 23, 32)        0         \n",
      "_________________________________________________________________\n",
      "conv2d_2 (Conv2D)            (None, 21, 21, 32)        9248      \n",
      "_________________________________________________________________\n",
      "activation_2 (Activation)    (None, 21, 21, 32)        0         \n",
      "_________________________________________________________________\n",
      "conv2d_3 (Conv2D)            (None, 19, 19, 64)        18496     \n",
      "_________________________________________________________________\n",
      "activation_3 (Activation)    (None, 19, 19, 64)        0         \n",
      "_________________________________________________________________\n",
      "max_pooling2d_1 (MaxPooling2 (None, 9, 9, 64)          0         \n",
      "_________________________________________________________________\n",
      "flatten (Flatten)            (None, 5184)              0         \n",
      "_________________________________________________________________\n",
      "dense (Dense)                (None, 64)                331840    \n",
      "_________________________________________________________________\n",
      "activation_4 (Activation)    (None, 64)                0         \n",
      "_________________________________________________________________\n",
      "dropout (Dropout)            (None, 64)                0         \n",
      "_________________________________________________________________\n",
      "dense_1 (Dense)              (None, 6)                 390       \n",
      "_________________________________________________________________\n",
      "activation_5 (Activation)    (None, 6)                 0         \n",
      "=================================================================\n",
      "Total params: 370,118\n",
      "Trainable params: 370,118\n",
      "Non-trainable params: 0\n",
      "_________________________________________________________________\n"
     ]
    }
   ],
   "source": [
    "model.summary()"
   ]
  },
  {
   "cell_type": "code",
   "execution_count": null,
   "metadata": {},
   "outputs": [],
   "source": []
  }
 ],
 "metadata": {
  "kernelspec": {
   "display_name": "runGPU",
   "language": "python",
   "name": "rungpu"
  },
  "language_info": {
   "codemirror_mode": {
    "name": "ipython",
    "version": 3
   },
   "file_extension": ".py",
   "mimetype": "text/x-python",
   "name": "python",
   "nbconvert_exporter": "python",
   "pygments_lexer": "ipython3",
   "version": "3.7.0"
  }
 },
 "nbformat": 4,
 "nbformat_minor": 4
}
